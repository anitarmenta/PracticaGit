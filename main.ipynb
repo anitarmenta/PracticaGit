{
  "nbformat": 4,
  "nbformat_minor": 0,
  "metadata": {
    "colab": {
      "name": "main.ipynb",
      "provenance": [],
      "collapsed_sections": [],
      "authorship_tag": "ABX9TyPGDfYsjP/Wnljm+Nmc3l0Q",
      "include_colab_link": true
    },
    "kernelspec": {
      "name": "python3",
      "display_name": "Python 3"
    }
  },
  "cells": [
    {
      "cell_type": "markdown",
      "metadata": {
        "id": "view-in-github",
        "colab_type": "text"
      },
      "source": [
        "<a href=\"https://colab.research.google.com/github/anitarmenta/PracticaGit/blob/main/main.ipynb\" target=\"_parent\"><img src=\"https://colab.research.google.com/assets/colab-badge.svg\" alt=\"Open In Colab\"/></a>"
      ]
    },
    {
      "cell_type": "code",
      "metadata": {
        "id": "pBsV2AdBEmjd"
      },
      "source": [
        "# -*- coding: utf-8 -*-\r\n",
        "from lxml import etree as etr\r\n",
        "from xml.etree import ElementTree\r\n",
        "import re\r\n",
        "import os\r\n",
        "import glob\r\n",
        "import json\r\n",
        "from collections import defaultdict  \r\n"
      ],
      "execution_count": 7,
      "outputs": []
    },
    {
      "cell_type": "code",
      "metadata": {
        "colab": {
          "resources": {
            "http://localhost:8080/nbextensions/google.colab/files.js": {
              "data": "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",
              "ok": true,
              "headers": [
                [
                  "content-type",
                  "application/javascript"
                ]
              ],
              "status": 200,
              "status_text": ""
            }
          },
          "base_uri": "https://localhost:8080/",
          "height": 106
        },
        "id": "wnWH38HgGm_Z",
        "outputId": "d773d9b9-256f-489f-94f1-c8dd1916e874"
      },
      "source": [
        "from google.colab import files\r\n",
        "xml = []\r\n",
        "xml = files.upload()\r\n"
      ],
      "execution_count": 8,
      "outputs": [
        {
          "output_type": "display_data",
          "data": {
            "text/html": [
              "\n",
              "     <input type=\"file\" id=\"files-138e88fa-7dc5-4cd6-8421-d7b0223e0911\" name=\"files[]\" multiple disabled\n",
              "        style=\"border:none\" />\n",
              "     <output id=\"result-138e88fa-7dc5-4cd6-8421-d7b0223e0911\">\n",
              "      Upload widget is only available when the cell has been executed in the\n",
              "      current browser session. Please rerun this cell to enable.\n",
              "      </output>\n",
              "      <script src=\"/nbextensions/google.colab/files.js\"></script> "
            ],
            "text/plain": [
              "<IPython.core.display.HTML object>"
            ]
          },
          "metadata": {
            "tags": []
          }
        },
        {
          "output_type": "stream",
          "text": [
            "Saving ABAISSER.xml to ABAISSER.xml\n",
            "Saving ABATTRE.xml to ABATTRE (1).xml\n"
          ],
          "name": "stdout"
        }
      ]
    },
    {
      "cell_type": "code",
      "metadata": {
        "id": "xT50lh3OG8M3"
      },
      "source": [
        "for filename in glob.glob( os.path.join(\"letraA/\", '*.xml') ):\r\n",
        "  xml = etr.parse(filename)"
      ],
      "execution_count": null,
      "outputs": []
    },
    {
      "cell_type": "code",
      "metadata": {
        "id": "mrQCG0aWGvCT"
      },
      "source": [
        "def get_ortho(xml):    \r\n",
        "    ortho = xml.xpath(\"/entry/form/orth\")\r\n",
        "    return ortho[0].text.capitalize() # pour mmetre la première lettre de chaque clé en maj \r\n",
        "\r\n",
        "def get_gram(xml):\r\n",
        "    gram = dict()    \r\n",
        "    #récup de pos\r\n",
        "    pos = xml.find(\"./gramgrp//*[@type='pos']\")\r\n",
        "    if pos is not None:\r\n",
        "      gram[\"pos\"] = pos.text      \r\n",
        "      return gram[\"pos\"]\r\n",
        "\r\n",
        "def get_genre(xml):\r\n",
        "    genre=dict()\r\n",
        "    gen = xml.find(\"./gramgrp//*[@type='gen']\")\r\n",
        "    if gen is not None:\r\n",
        "      genre[\"gen\"] = gen.text    \r\n",
        "      return genre[\"gen\"]\r\n",
        "\r\n",
        "#Ecriture   \r\n",
        "\r\n",
        "#separate nom and classe\r\n",
        "\r\n",
        "def cle_mot(mot):\r\n",
        "    cle = f\"=={mot}==\\n\"\r\n",
        "    return cle\r\n",
        "  \r\n",
        "def get_etym(xml):\r\n",
        "    etym = dict()\r\n",
        "    etymo = xml.find(\"./etym/mentioned\")\r\n",
        "    if etymo:\r\n",
        "      etym[\"etymo\"]=etymo.text\r\n",
        "      return etym[\"etymo\"]\r\n",
        "\r\n",
        "def get_senses(xml):\r\n",
        "    lSenses = xml.findall(\"./sense\")\r\n",
        "    return lSenses\r\n",
        "\r\n",
        "def clean_texte(chaine):\r\n",
        "    # dictionnaire contenant les mots à remplacer\r\n",
        "  substituts = {\"<fleur>\":\" \\'\\'\", \"</fleur>\":\"\\'\\' \",\\\r\n",
        "                    \"<mark>\":\" [[Forme orthographique::\", \"</mark>\":\"]] \",\\\r\n",
        "                    \"<gloss>\":\"\", \"</gloss>\":\"\",\\\r\n",
        "                    \"<quote>\":\"\", \"</quote>\":\"\",\\\r\n",
        "                    \"<author>\":\"[[Référence::\", \"</author>\":\"]]\",\\\r\n",
        "                    \"<nonit>\":\"\", \"</nonit>\":\"\",\\\r\n",
        "                    \"<bibl>\":\"\", \"</bibl>\":\"\",\\\r\n",
        "                    \"\\n      \":\"\",\"\\n\":\"\"}\r\n",
        "    \r\n",
        "  tampon = chaine\r\n",
        "    \r\n",
        "  for mot in enumerate(substituts.keys()):\r\n",
        "    if (mot[1] in chaine):\r\n",
        "      tampon = tampon.replace(mot[1],substituts[mot[1]])\r\n",
        "    else:\r\n",
        "      pass        \r\n",
        "  return tampon\r\n",
        "\r\n",
        "# dictionnaire des domaines modernes/contemporain\r\n",
        "dicodomMod = {'AGR.':'Agronomie','CHIM.':'Chimie',\\\r\n",
        "              'MAG.':'Magie','ARCHI.':'Architecture',\\\r\n",
        "              'NAV.':'Navigation','TECH.':'Techniques',\\\r\n",
        "              'ASTR.':'Astronomie','ASTRL.':'Astrologie',\\\r\n",
        "              'GEOM.':'Géométrie','MED.':'Médecine',\\\r\n",
        "              'CHIR.':'Chirurgie','ANAT.':'Anatomie',\\\r\n",
        "              'DIET.':'Diététique','PHARM.':'Pharmacopée',\\\r\n",
        "              'MUSIQUE-THEORIE':'Théorie de la musique',\\\r\n",
        "              'MET.':'Météorologie','PHYS.':'Physique',\\\r\n",
        "              'OPT.':'Optique','MIN.':'Minéralogie',\\\r\n",
        "              'BOT.':'Botanique','ZOOL.':'Zoologie',\\\r\n",
        "              'MATH.':'Mathématique','ARITHM.':'Arithmétique',\\\r\n",
        "              'ALG.':'Algèbre'}\r\n",
        "    # dictionnaire des domaines médiévaux\r\n",
        "dicodomMed = {'AGR.':'Agriculture','ALCH.':'Alchimie',\\\r\n",
        "              'DIVI.':'Divination','MAG.':'Art magique',\\\r\n",
        "              'Arts_Méca.':'Arts mécaniques','ASTR.':'Astronomie',\\\r\n",
        "              'GEOM.':'Géométrie','MED.':'Médecine',\\\r\n",
        "              'Sciences_Nat.':'Sciences de la nature',\\\r\n",
        "              'MATHS.':'Sciences mathématiques',\\\r\n",
        "              'MATH.':'Sciences mathématiques'}\r\n",
        "\r\n",
        "def get_domaines(sense):    \r\n",
        "    #création d'une liste pour stocker les dictionnaires contenant les noms mediévaux et modernes \r\n",
        "    #raison= le return dans la fonction arrête la loop donc on a qu'une seule variable pour les domaines\r\n",
        "    # Maintenant on pourra stocker domaines dans un variable et le reutiliser par la suite example: stocker dans une fichier json \r\n",
        "    domaine=[]  #contient les domaines medievaux, modernes et definitions\r\n",
        "    domaineMed=[]#ne contient que les domaines medievaux et leurs définitions (pour l'utiliser dans la page wiki)\r\n",
        "    domainesMed=[]\r\n",
        "    for sens in sense:        \r\n",
        "        domaines = {}\r\n",
        "        mod = sens.attrib[\"mod\"]\r\n",
        "        if (mod in dicodomMod.keys()):\r\n",
        "            mod = dicodomMod[mod]\r\n",
        "        med = sens.attrib[\"med\"]\r\n",
        "        if (med in dicodomMed.keys()):\r\n",
        "            med = dicodomMed[med]       \r\n",
        "        domaines[\"medieval\"] = med\r\n",
        "        domaines[\"modern\"] = mod\r\n",
        "        domaines['Def'] = sens.find(\"def\").text\r\n",
        "        #get the first word of the def in variable and replace it with [[motclé::word]]\r\n",
        "        domaine.append(domaines)\r\n",
        "        domainesMed={}\r\n",
        "        domainesMed[\"medieval\"]=med\r\n",
        "        domainesMed[\"Def\"]=sens.find(\"def\").text\r\n",
        "        c=sens.find(\"cit/quote\")\r\n",
        "        if c:\r\n",
        "          c=etr.tostring(c, encoding=\"unicode\")\r\n",
        "          c=clean_texte(c)\r\n",
        "        #//title[@lang='en']\r\n",
        "        synonyme=sens.findall(\"note[@id ='Struct']/xr[@type='syn']/ref\")\r\n",
        "        synonyme1=\"\"\r\n",
        "        for e in synonyme:\r\n",
        "          synonyme1+=f'{e.text} '\r\n",
        "        if synonyme:\r\n",
        "          domainesMed[\"Def\"]+=f\"\\nSynonyme(s):\\n[[synonyme::{synonyme1}]].\"\r\n",
        "        domainesMed[\"Def\"]+=f\"\\n Equivalent en sciences modernes: [[Domaine Moderne::{mod}|{mod}]]\\n\\n'''Citation(s):''' \\n {c}\"\r\n",
        "        biblio=sens.find(\"cit/bibl\")\r\n",
        "        if biblio:\r\n",
        "          biblio=etr.tostring(biblio, encoding=\"unicode\")\r\n",
        "          #use regex to replace []  with ()\r\n",
        "          biblio = re.sub( r'\\[.*\\]', \"\",biblio)\r\n",
        "          biblio=clean_texte(biblio)    \r\n",
        "        #adding the date category annotation for Dates [[1230::1234]] in references  \r\n",
        "          biblio1 = re.sub(r\"([0-9]{4})\", r\"[[Ciècle::\\1]]\", biblio)\r\n",
        "          regex= re.findall(r\"[0-9]{4}\", biblio1)\r\n",
        "          if regex:\r\n",
        "            regex1=get_century(int(regex[0]))\r\n",
        "            regex2=f\"{str(regex1)}e \"\r\n",
        "            biblio2=re.sub(r\"([0-9]{4})\",regex2, biblio1)\r\n",
        "            source= f\"<ref>{biblio2}</ref>\"\r\n",
        "            domainesMed[\"Def\"]+=source\r\n",
        "        domaineMed.append(domainesMed)        \r\n",
        "        print(domaines)\r\n",
        "        print(domaineMed)\r\n",
        "    return domaine, domaineMed, domainesMed\r\n",
        "\r\n",
        "def show_fact_box(mot):\r\n",
        "  fact_box= \"__SHOWFACTBOX__\"\r\n",
        "  return fact_box   \r\n",
        "  \r\n",
        "def get_century(année):  \r\n",
        "  année=int(année)\r\n",
        "  return (année + 99) // 100\r\n"
      ],
      "execution_count": 9,
      "outputs": []
    }
  ]
}